{
 "cells": [
  {
   "cell_type": "code",
   "execution_count": null,
   "id": "d95e4ebc-77a1-409d-9e62-48957f484564",
   "metadata": {},
   "outputs": [],
   "source": []
  },
  {
   "cell_type": "code",
   "execution_count": 7,
   "id": "1484e2aa-4f6e-4702-abb5-d0cff989b41c",
   "metadata": {},
   "outputs": [
    {
     "data": {
      "text/plain": [
       "\"\\nimport os\\nfor dirname, _, filenames in os.walk('SkyHack3.0/'):\\n    for filename in filenames:\\n        print(os.path.join(dirname, filename))\""
      ]
     },
     "execution_count": 7,
     "metadata": {},
     "output_type": "execute_result"
    }
   ],
   "source": [
    "import numpy as np\n",
    "import pandas as pd\n",
    "'''\n",
    "import os\n",
    "for dirname, _, filenames in os.walk('SkyHack3.0/'):\n",
    "    for filename in filenames:\n",
    "        print(os.path.join(dirname, filename))'''"
   ]
  },
  {
   "cell_type": "code",
   "execution_count": 9,
   "id": "d712e020-9fef-4236-b191-2c2f3bbdd684",
   "metadata": {},
   "outputs": [],
   "source": [
    "airports_df = pd.read_csv('./Dataset/Airports Data.csv')\n",
    "flight_df = pd.read_csv('./Dataset/Flight Level Data.csv')\n",
    "pnr_flights_df = pd.read_csv('./Dataset/PNR+Flight+Level+Data.csv')\n",
    "pnr_remarks_df = pd.read_csv('./Dataset/PNR Remark Level Data.csv')\n",
    "bag_level_df = pd.read_csv('./Dataset/Bag+Level+Data.csv')"
   ]
  },
  {
   "cell_type": "code",
   "execution_count": null,
   "id": "11c51d0b-841c-4832-a57b-2b449b58eee9",
   "metadata": {},
   "outputs": [],
   "source": []
  },
  {
   "cell_type": "code",
   "execution_count": null,
   "id": "88f72138-2653-4d36-8802-254feb2d69dc",
   "metadata": {},
   "outputs": [],
   "source": []
  }
 ],
 "metadata": {
  "kernelspec": {
   "display_name": "Python 3 (ipykernel)",
   "language": "python",
   "name": "python3"
  },
  "language_info": {
   "codemirror_mode": {
    "name": "ipython",
    "version": 3
   },
   "file_extension": ".py",
   "mimetype": "text/x-python",
   "name": "python",
   "nbconvert_exporter": "python",
   "pygments_lexer": "ipython3",
   "version": "3.11.7"
  }
 },
 "nbformat": 4,
 "nbformat_minor": 5
}
